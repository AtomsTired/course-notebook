{
 "cells": [
  {
   "cell_type": "markdown",
   "id": "40c1d0bd-4c87-48f1-ad5a-013f25edba19",
   "metadata": {},
   "source": [
    "# Data Science Tools and Ecosystem #"
   ]
  },
  {
   "cell_type": "markdown",
   "id": "24638a68-d80f-4900-a67b-bbaffe0de460",
   "metadata": {},
   "source": [
    "In this notebook, Data Science Tools and Ecosystem are summarized."
   ]
  },
  {
   "cell_type": "markdown",
   "id": "b2c531c8-675c-4a7c-a8d5-9c13971a9758",
   "metadata": {},
   "source": [
    "__Objectives:__\n",
    "* NumPy\n",
    "* Weka\n",
    "* Python"
   ]
  },
  {
   "cell_type": "markdown",
   "id": "af5fa008-e8ae-44f6-a9cb-daefc7464938",
   "metadata": {},
   "source": [
    "Some of the popular languages that Data Scientists use are:"
   ]
  },
  {
   "cell_type": "markdown",
   "id": "e262861b-723c-4fad-86eb-54d06641a446",
   "metadata": {},
   "source": [
    "1. Python\n",
    "2. SQL\n",
    "3. R"
   ]
  },
  {
   "cell_type": "markdown",
   "id": "f0a61f1d-5df8-40f9-9257-a8782c5498c4",
   "metadata": {},
   "source": [
    "Some of the commonly used libraries used by Data Scientists include:"
   ]
  },
  {
   "cell_type": "markdown",
   "id": "2bca6740-c4c1-4178-9de1-46290c1097e8",
   "metadata": {},
   "source": [
    "1. NumPy\n",
    "2. Pandas\n",
    "3. MatPlotLib"
   ]
  },
  {
   "cell_type": "markdown",
   "id": "a95e9943-b699-4159-b472-2fe6472c9cc3",
   "metadata": {},
   "source": [
    "Data Science Tools\n",
    "|Tool 1|    Tool 2    |  Tool 3     |\n",
    "|:----:|:------------:|:-----------:|\n",
    "| Weka | Apache Spark | Tensor Flow | "
   ]
  },
  {
   "cell_type": "markdown",
   "id": "a00c78af-5452-4470-a363-280c28383114",
   "metadata": {},
   "source": [
    "### Below are a few examples of evaluating arithmetic expressions in Python. ###"
   ]
  },
  {
   "cell_type": "code",
   "execution_count": 1,
   "id": "60d48c81-cb01-409b-9496-c598607038e9",
   "metadata": {},
   "outputs": [
    {
     "data": {
      "text/plain": [
       "17"
      ]
     },
     "execution_count": 1,
     "metadata": {},
     "output_type": "execute_result"
    }
   ],
   "source": [
    "#This a simple arithmetic expression to mutiply then add integers\n",
    "(3*4)+5"
   ]
  },
  {
   "cell_type": "code",
   "execution_count": 2,
   "id": "bd2c69b5-a4d9-4af1-bb99-12aad86599e8",
   "metadata": {
    "tags": []
   },
   "outputs": [
    {
     "data": {
      "text/plain": [
       "3.3333333333333335"
      ]
     },
     "execution_count": 2,
     "metadata": {},
     "output_type": "execute_result"
    }
   ],
   "source": [
    "#This will convert 200 minutes to hours by diving by 60\n",
    "200/60"
   ]
  },
  {
   "cell_type": "markdown",
   "id": "1f5f15fa-e2d5-4f70-bceb-1b172fddc874",
   "metadata": {},
   "source": [
    "## Author: Atom C. Osman ##"
   ]
  },
  {
   "cell_type": "code",
   "execution_count": null,
   "id": "1cea112f-08b6-42d9-9ec0-6f5395f525a7",
   "metadata": {},
   "outputs": [],
   "source": []
  }
 ],
 "metadata": {
  "kernelspec": {
   "display_name": "Python",
   "language": "python",
   "name": "conda-env-python-py"
  },
  "language_info": {
   "codemirror_mode": {
    "name": "ipython",
    "version": 3
   },
   "file_extension": ".py",
   "mimetype": "text/x-python",
   "name": "python",
   "nbconvert_exporter": "python",
   "pygments_lexer": "ipython3",
   "version": "3.7.12"
  }
 },
 "nbformat": 4,
 "nbformat_minor": 5
}
